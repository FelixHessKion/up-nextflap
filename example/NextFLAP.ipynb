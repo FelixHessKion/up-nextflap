{
  "nbformat": 4,
  "nbformat_minor": 0,
  "metadata": {
    "colab": {
      "provenance": []
    },
    "kernelspec": {
      "name": "python3",
      "display_name": "Python 3"
    },
    "language_info": {
      "name": "python"
    }
  },
  "cells": [
    {
      "cell_type": "markdown",
      "source": [
        "## NextFLAP Example\n",
        "\n",
        "This python notebook shows the usage of NextFLAP within unified planning library.\n",
        "\n",
        "[![Open In GitHub](https://img.shields.io/badge/see-Github-579aca?logo=github)](https://github.com/aiplan4eu/up-nextflap/blob/master/example/NextFLAP.ipynb)\n",
        "[![Open In Colab](https://colab.research.google.com/assets/colab-badge.svg)](https://colab.research.google.com/github/aiplan4eu/up-nextflap/blob/master/example/NextFLAP.ipynb)\n",
        "\n",
        "\n",
        "In particular we will go through the following steps:\n",
        "\n",
        " - create a numeric and temporal planning problem;\n",
        " - call the planner to solve the problem;\n"
      ],
      "metadata": {
        "id": "X6YPCzYLgAw7"
      }
    },
    {
      "cell_type": "markdown",
      "source": [
        "# Setup\n",
        "\n",
        "First, we install up_nextflap library and its dependencies from PyPi. Here, we use the `--pre` flag to use the latest development build."
      ],
      "metadata": {
        "id": "ZlSw4n1tiyXU"
      }
    },
    {
      "cell_type": "code",
      "execution_count": null,
      "metadata": {
        "id": "4uTsVrxnfjWv"
      },
      "outputs": [],
      "source": [
        "!pip install --pre up_nextflap"
      ]
    },
    {
      "cell_type": "markdown",
      "source": [
        "### Imports\n",
        "The basic imports we need for this demo are abstracted in the `shortcuts` package."
      ],
      "metadata": {
        "id": "RE5enE0ajNkN"
      }
    },
    {
      "cell_type": "code",
      "source": [
        "import unified_planning as up\n",
        "from unified_planning.engines import PlanGenerationResultStatus\n",
        "from unified_planning.shortcuts import (Problem, UserType, Object, Variable,\n",
        "                                        BoolType, RealType,\n",
        "                                        StartTiming, EndTiming, ClosedTimeInterval, Timing,\n",
        "                                        Equals, GE, GT, LT, LE, Not,\n",
        "                                        Plus, Minus, Times, Div,\n",
        "                                        Forall)\n",
        "from unified_planning.model.timing import Timepoint, TimepointKind"
      ],
      "metadata": {
        "id": "pGKu9gWNjw7N"
      },
      "execution_count": 2,
      "outputs": []
    },
    {
      "cell_type": "markdown",
      "source": [
        "##Importing and registering NextFLAP\n",
        "\n",
        "We register NextFLAP as a planning engine on the UPF platform:"
      ],
      "metadata": {
        "id": "qMA-y9-oj6KX"
      }
    },
    {
      "cell_type": "code",
      "source": [
        "from up_nextflap import NextFLAPImpl\n",
        "\n",
        "env = up.environment.get_environment()\n",
        "env.factory.add_engine('nextflap', __name__, 'NextFLAPImpl')"
      ],
      "metadata": {
        "id": "lAyFiYaIkJpx"
      },
      "execution_count": 3,
      "outputs": []
    },
    {
      "cell_type": "markdown",
      "source": [
        "### Problem representation\n",
        "\n",
        "In this example, we are going to model a problem in which a robot has to fill several water tanks up to a certain limit.\n",
        "\n",
        "#### Types\n",
        "\n",
        "The first thing to do is to introduce the required types. In our case, we will define the types `robot` and `location`:"
      ],
      "metadata": {
        "id": "7DvSp9Ifkp83"
      }
    },
    {
      "cell_type": "code",
      "source": [
        "robot = UserType('robot')\n",
        "location = UserType('location')"
      ],
      "metadata": {
        "id": "BEKL_G7SllLT"
      },
      "execution_count": 4,
      "outputs": []
    },
    {
      "cell_type": "markdown",
      "source": [
        "## Fluents\n",
        "\n",
        "Now we define the problem and define the fluents we need:\n",
        "*   `at-robot`: with two parameters (`robot` and `location`), it models the position of the robot.\n",
        "*   `at-station`: with one parameter (`location`), it models the locations that have a charging station. At these stations, the robots can recharge their batteries.\n",
        "*   `attached-to-station`: with two parameters (`robot` and `location`), it indicates when a robot is docked to the station. The battery can only be recharged while the robot is docked.\n",
        "*   `at-tap`: with one parameter (`location`), it models the locations that have a tap. At these locations, the robots can fill their jars with water.\n",
        "*   `at-tank`: with one parameter (`location`), it models the locations where there is a water tank.\n",
        "*   `tank_ready`: with one parameter (`location`), it represents that the water tank located at this location has reached the desired level of water. There can only be one tank at a given location. Once the tank is ready, its level can no longer be modified.\n",
        "*   `battery-level`: with one parameter (`robot`), it models the battery level of the robot (real number from 0% to 100%).\n",
        "*   `jar-level`: with one parameter (`robot`), it models the amount of water (real number) the robot carries in its jar.\n",
        "*   `max-jar-level`: with one parameter (`robot`), it represents the maximum amount of water (real number) that the robot can carry in its jar.\n",
        "*   `tank-level`: with one parameter (`location`), it models the amount of water (real number) contained in the tank located at the given location.\n",
        "*   `tank-goal`: with one parameter (`location`), it represents the desired amount of water (real number) for the tank located at that location."
      ],
      "metadata": {
        "id": "JUqwUJeDl8N9"
      }
    },
    {
      "cell_type": "code",
      "source": [
        "p = Problem('WaterTanks')\n",
        "\n",
        "# Boolean fluents\n",
        "at_robot = up.model.Fluent('at-robot', BoolType(), r=robot, l=location)\n",
        "at_station = up.model.Fluent('at-station', BoolType(), l=location)\n",
        "attached_to_station = up.model.Fluent('attached-to-station', BoolType(), r=robot, l=location)\n",
        "at_tap = up.model.Fluent('at-tap', BoolType(), l=location)\n",
        "at_tank = up.model.Fluent('at-tank', BoolType(), l=location)\n",
        "tank_ready = up.model.Fluent('tank-ready', BoolType(), l=location)\n",
        "p.add_fluent(at_robot, default_initial_value=False)\n",
        "p.add_fluent(at_station, default_initial_value=False)\n",
        "p.add_fluent(at_tap, default_initial_value=False)\n",
        "p.add_fluent(at_tank, default_initial_value=False)\n",
        "p.add_fluent(attached_to_station, default_initial_value=False)\n",
        "p.add_fluent(tank_ready, default_initial_value=False)\n",
        "\n",
        "# Numeric fluents\n",
        "battery_level = up.model.Fluent('battery-level', RealType(), r=robot)\n",
        "jar_level = up.model.Fluent('jar-level', RealType(), r=robot)\n",
        "max_jar_level = up.model.Fluent('max-jar-level', RealType(), r=robot)\n",
        "tank_level = up.model.Fluent('tank-level', RealType(), l=location)\n",
        "tank_goal = up.model.Fluent('tank-goal', RealType(), l=location)\n",
        "p.add_fluent(battery_level)\n",
        "p.add_fluent(jar_level)\n",
        "p.add_fluent(max_jar_level)\n",
        "p.add_fluent(tank_level)\n",
        "p.add_fluent(tank_goal)"
      ],
      "metadata": {
        "id": "bXc1svq9m-JT"
      },
      "execution_count": null,
      "outputs": []
    },
    {
      "cell_type": "markdown",
      "source": [
        "## Action `move`\n",
        "\n",
        "Using a `move` action, a robot can move from one location to another. The **duration of this action depends on the weight transported**, that is, on the amount of water the robot carries in its jar: `10 + jar-level(r)/10`. This action consumes 10% of the battery."
      ],
      "metadata": {
        "id": "WKHrr3mfrVS5"
      }
    },
    {
      "cell_type": "code",
      "source": [
        "move = up.model.DurativeAction('move', r=robot, l1=location, l2=location)\n",
        "r = move.parameter('r')\n",
        "l1 = move.parameter('l1')\n",
        "l2 = move.parameter('l2')\n",
        "move.set_fixed_duration(Plus(10, Div(jar_level(r), 10)))\n",
        "move.add_condition(StartTiming(), at_robot(r, l1))\n",
        "move.add_condition(StartTiming(), GE(battery_level(r), 10))\n",
        "move.add_effect(StartTiming(), at_robot(r, l1), False)\n",
        "move.add_effect(EndTiming(), at_robot(r, l2), True)\n",
        "p.add_action(move)"
      ],
      "metadata": {
        "id": "0eUYHHearmdc"
      },
      "execution_count": 6,
      "outputs": []
    },
    {
      "cell_type": "markdown",
      "source": [
        "## Action `attach`\n",
        "\n",
        "Using an `attach` action, a robot can dock to the charging station. To do this, it is a condition that the station is free (it can only be used by one robot at the same time). We model this using a **Forall** expression.\n",
        "The planner is in charge of deciding how long the robot will remain anchored to the station (between 1 and 100 minutes). This is represented by a **duration interval**."
      ],
      "metadata": {
        "id": "ipXiBPAZsyC1"
      }
    },
    {
      "cell_type": "code",
      "source": [
        "attach = up.model.DurativeAction('attach', r=robot, l=location)\n",
        "r = attach.parameter('r')\n",
        "l = attach.parameter('l')\n",
        "rob = Variable('rob', robot)\n",
        "attach.set_closed_duration_interval(1, 100)\n",
        "attach.add_condition(StartTiming(), at_station(l))\n",
        "attach.add_condition(StartTiming(), Forall(Not(attached_to_station(rob, l)), rob))\n",
        "attach.add_condition(ClosedTimeInterval(StartTiming(), EndTiming()), at_robot(r, l))\n",
        "attach.add_effect(StartTiming(), attached_to_station(r, l), True)\n",
        "attach.add_effect(EndTiming(), attached_to_station(r, l), False)\n",
        "p.add_action(attach)"
      ],
      "metadata": {
        "id": "rLNIuCvKs23B"
      },
      "execution_count": 7,
      "outputs": []
    },
    {
      "cell_type": "markdown",
      "source": [
        "## Action `charge`\n",
        "\n",
        "Using a `charge` action, a robot can recharge its battery. The third parameter of the action is a **numeric parameter**, which allows the planner to choose the percentage of battery to recharge.\n",
        "\n",
        "The duration of this action is a **non-linear expression**, which tries to model the fact that batteries charge slower as they get full."
      ],
      "metadata": {
        "id": "MY7E99NHump2"
      }
    },
    {
      "cell_type": "code",
      "source": [
        "charge = up.model.DurativeAction('charge', r=robot, l=location, percentage=RealType())\n",
        "r = charge.parameter('r')\n",
        "l = charge.parameter('l')\n",
        "percentage = charge.parameter('percentage')\n",
        "charge.set_fixed_duration(Plus(percentage,\n",
        "                               Div(Times(battery_level(r), battery_level(r), percentage), 5000)))\n",
        "charge.add_condition(ClosedTimeInterval(StartTiming(), EndTiming()), attached_to_station(r, l))\n",
        "charge.add_condition(ClosedTimeInterval(StartTiming(), EndTiming()), at_robot(r, l))\n",
        "charge.add_condition(StartTiming(), LT(battery_level(r), 100))\n",
        "charge.add_condition(StartTiming(), LE(percentage, Minus(100, battery_level(r))))\n",
        "charge.add_condition(StartTiming(), GT(percentage, 0))\n",
        "charge.add_increase_effect(EndTiming(), battery_level(r), percentage)\n",
        "p.add_action(charge)"
      ],
      "metadata": {
        "id": "qFu-_Pi-u_6G"
      },
      "execution_count": 8,
      "outputs": []
    },
    {
      "cell_type": "markdown",
      "source": [
        "## Action `fill-jar`\n",
        "\n",
        "Using a `fill-jar` action, a robot can fill its jar. The third parameter of the action is a **numeric parameter**, which allows the planner to choose how much water to pour into the jar. The duration of this action is directly proportional to the amount of water poured. In any case, this action consumes 5% battery."
      ],
      "metadata": {
        "id": "M5Fd4uK_woCN"
      }
    },
    {
      "cell_type": "code",
      "source": [
        "fill = up.model.DurativeAction('fill-jar', r=robot, l=location, amount=RealType())\n",
        "r = fill.parameter('r')\n",
        "l = fill.parameter('l')\n",
        "amount = fill.parameter('amount')\n",
        "fill.set_fixed_duration(amount)\n",
        "fill.add_condition(StartTiming(), GE(amount, 1))\n",
        "fill.add_condition(StartTiming(), LE(amount, Minus(max_jar_level(r), jar_level(r))))\n",
        "fill.add_condition(StartTiming(), GE(battery_level(r), 5))\n",
        "fill.add_condition(ClosedTimeInterval(StartTiming(), EndTiming()), at_tap(l))\n",
        "fill.add_condition(ClosedTimeInterval(StartTiming(), EndTiming()), at_robot(r, l))\n",
        "fill.add_condition(StartTiming(), at_station(l))\n",
        "fill.add_decrease_effect(EndTiming(), battery_level(r), 5)\n",
        "fill.add_increase_effect(EndTiming(), jar_level(r), amount)\n",
        "p.add_action(fill)"
      ],
      "metadata": {
        "id": "fqcEr4JxwuII"
      },
      "execution_count": 9,
      "outputs": []
    },
    {
      "cell_type": "markdown",
      "source": [
        "## Action `empty-jar`\n",
        "\n",
        "Using an `empty-jar` action, a robot can pour all the water it carries in its jar into a tank. The duration of this action is directly proportional to the amount of water poured. This action leaves the jar empty while increasing the level of the tank with the amount poured. This action consumes 5% battery."
      ],
      "metadata": {
        "id": "fe6t6U-xxsBm"
      }
    },
    {
      "cell_type": "code",
      "source": [
        "empty = up.model.DurativeAction('empty-jar', r=robot, l=location)\n",
        "r = empty.parameter('r')\n",
        "l = empty.parameter('l')\n",
        "empty.set_fixed_duration(jar_level(r))\n",
        "empty.add_condition(StartTiming(), GE(battery_level(r), 5))\n",
        "empty.add_condition(StartTiming(), LE(Plus(jar_level(r), tank_level(l)), 100))\n",
        "empty.add_condition(ClosedTimeInterval(StartTiming(), EndTiming()), at_tank(l))\n",
        "empty.add_condition(ClosedTimeInterval(StartTiming(), EndTiming()), at_robot(r, l))\n",
        "empty.add_condition(ClosedTimeInterval(StartTiming(), EndTiming()), Not(tank_ready(l)))\n",
        "empty.add_decrease_effect(EndTiming(), battery_level(r), 5)\n",
        "empty.add_increase_effect(EndTiming(), tank_level(l), jar_level(r))\n",
        "empty.add_effect(EndTiming(), jar_level(r), 0)\n",
        "p.add_action(empty)"
      ],
      "metadata": {
        "id": "tgEDuWOTyLEU"
      },
      "execution_count": 10,
      "outputs": []
    },
    {
      "cell_type": "markdown",
      "source": [
        "## Action `close-tank`\n",
        "\n",
        "Using a `close-tank` action, a robot can close a tank when the water it contains has reached the desired level. This action consumes 5% battery."
      ],
      "metadata": {
        "id": "su51WK4WywRP"
      }
    },
    {
      "cell_type": "code",
      "source": [
        "close = up.model.DurativeAction('close-tank', r=robot, l=location)\n",
        "r = close.parameter('r')\n",
        "l = close.parameter('l')\n",
        "close.set_fixed_duration(jar_level(r))\n",
        "close.add_condition(ClosedTimeInterval(StartTiming(), EndTiming()), at_tank(l))\n",
        "close.add_condition(StartTiming(), Not(tank_ready(l)))\n",
        "close.add_condition(StartTiming(), Equals(tank_level(l), tank_goal(l)))\n",
        "close.add_condition(ClosedTimeInterval(StartTiming(), EndTiming()), at_robot(r, l))\n",
        "close.add_effect(StartTiming(), tank_ready(l), True)\n",
        "p.add_action(close)"
      ],
      "metadata": {
        "id": "PNYQXuE5zDuX"
      },
      "execution_count": 11,
      "outputs": []
    },
    {
      "cell_type": "markdown",
      "source": [
        "## Objects\n",
        "\n",
        "We are now going to create a simple problem in which we will define a robot (`r1`) and two locations (`a` and `b`)."
      ],
      "metadata": {
        "id": "z1l5XYCozsrL"
      }
    },
    {
      "cell_type": "code",
      "source": [
        "r1 = Object('r1', robot)\n",
        "a = Object('a', location)\n",
        "b = Object('b', location)\n",
        "p.add_object(r1)\n",
        "p.add_object(a)\n",
        "p.add_object(b)"
      ],
      "metadata": {
        "id": "3XvNMJF60Iff"
      },
      "execution_count": null,
      "outputs": []
    },
    {
      "cell_type": "markdown",
      "source": [
        "## Initial state\n",
        "\n",
        "In our example problem, we will have a charging station at location `a`, but it will only be available 10 minutes after the plan starts. We model this using a TIL (**timed initial literal**).\n",
        "\n",
        "We will also have a tap at location `a` and two water tanks at `a` and `b`.\n",
        "\n",
        "The robot will initially be in location `a` with a battery level of 15%. Its jar will be filled to the maximum (20 liters).\n",
        "\n",
        "Both water tanks, in locations `a` and `b`, will be initially empty. The goal is for both tanks to contain 10 and 40 liters of water, respectively."
      ],
      "metadata": {
        "id": "ZUQWiErC0U_5"
      }
    },
    {
      "cell_type": "code",
      "source": [
        "p.add_timed_effect(Timing(10, Timepoint(TimepointKind.GLOBAL_START)), at_station(a), True)\n",
        "p.set_initial_value(at_tap(a), True)\n",
        "p.set_initial_value(at_tank(a), True)\n",
        "p.set_initial_value(at_tank(b), True)\n",
        "p.set_initial_value(at_robot(r1, a), True)\n",
        "p.set_initial_value(battery_level(r1), 15)\n",
        "p.set_initial_value(jar_level(r1), 20)\n",
        "p.set_initial_value(max_jar_level(r1), 20)\n",
        "p.set_initial_value(tank_level(a), 0)\n",
        "p.set_initial_value(tank_goal(a), 10)\n",
        "p.set_initial_value(tank_level(b), 0)\n",
        "p.set_initial_value(tank_goal(b), 40)"
      ],
      "metadata": {
        "id": "1K5GfUtu0azy"
      },
      "execution_count": 13,
      "outputs": []
    },
    {
      "cell_type": "markdown",
      "source": [
        "## Goal\n",
        "\n",
        "Finally, the objective is for both tanks to be ready, that is, for the robot to close them once they have reached their desired level."
      ],
      "metadata": {
        "id": "26et8J6J2SJA"
      }
    },
    {
      "cell_type": "code",
      "source": [
        "p.add_goal(tank_ready(a))\n",
        "p.add_goal(tank_ready(b))"
      ],
      "metadata": {
        "id": "2YXf1J3s2XY_"
      },
      "execution_count": 14,
      "outputs": []
    },
    {
      "cell_type": "markdown",
      "source": [
        "## Solving the problem\n",
        "\n",
        "We now select the NextFLAP planner to solve the problem we have defined and show the plan obtained."
      ],
      "metadata": {
        "id": "4C7Ip73D2wbS"
      }
    },
    {
      "cell_type": "code",
      "source": [
        "with env.factory.OneshotPlanner(name='nextflap') as planner:\n",
        "    result = planner.solve(p, timeout=60.0)\n",
        "    if result.status == PlanGenerationResultStatus.SOLVED_SATISFICING:\n",
        "        print(f'; {planner.name} found a plan!')\n",
        "        if result.plan.kind == up.plans.plan.PlanKind.PARTIAL_ORDER_PLAN:\n",
        "            seqPlan = result.plan.convert_to(up.plans.plan.PlanKind.SEQUENTIAL_PLAN, p)\n",
        "            for action in seqPlan.actions:\n",
        "                print(action)\n",
        "        else:\n",
        "            for time, action, dur in result.plan.timed_actions:\n",
        "                print(f'{time.numerator/time.denominator:.3f}: {action} [{dur.numerator/dur.denominator:.3f}]')\n",
        "    else:\n",
        "        print('No plan found!')"
      ],
      "metadata": {
        "id": "wJtij6Te3AbP"
      },
      "execution_count": null,
      "outputs": []
    }
  ]
}